{
 "cells": [
  {
   "cell_type": "code",
   "execution_count": 2,
   "id": "dbcdc465-94da-4700-b786-45127edd361e",
   "metadata": {},
   "outputs": [],
   "source": [
    "import numpy as np\n",
    "import pandas as pd\n",
    "import matplotlib.pyplot as plt\n",
    "import seaborn as sns\n",
    "from scipy.sparse import csr_matrix\n",
    "from pysal.lib import weights\n",
    "from libpysal import weights\n",
    "from spreg import OLS, GM_Lag\n"
   ]
  },
  {
   "cell_type": "code",
   "execution_count": 4,
   "id": "90c20183-fb49-4df6-a8e1-b20a5ce34f32",
   "metadata": {},
   "outputs": [],
   "source": [
    "# Set random seed for reproducibility\n",
    "np.random.seed(42)\n",
    "\n",
    "# Parameters\n",
    "n = 100  # Number of observations\n",
    "rho = 0.5  # Spatial autoregressive parameter\n",
    "true_beta = 0.5  # True coefficient of X\n",
    "\n",
    "# Generate coordinates for a 10x10 grid\n",
    "coords = np.array([(i // 10, i % 10) for i in range(n)])  # 10x10 grid\n",
    "\n",
    "# Create a spatial weight matrix manually for a 10x10 grid\n",
    "def create_weight_matrix(n):\n",
    "    W = np.zeros((n, n))\n",
    "    for i in range(n):\n",
    "        if i % 10 != 0:  # left neighbor\n",
    "            W[i, i - 1] = 1\n",
    "        if i % 10 != 9:  # right neighbor\n",
    "            W[i, i + 1] = 1\n",
    "        if i >= 10:  # upper neighbor\n",
    "            W[i, i - 10] = 1\n",
    "        if i < 90:  # lower neighbor\n",
    "            W[i, i + 10] = 1\n",
    "    return W\n",
    "\n",
    "W_matrix = create_weight_matrix(n)\n",
    "W_matrix = W_matrix / W_matrix.sum(axis=1, keepdims=True)\n",
    "W = csr_matrix(W_matrix)  # Convert to sparse matrix\n",
    "\n",
    "# Number of simulations\n",
    "n_simulations = 100\n",
    "\n",
    "# Store results\n",
    "ols_estimates = []\n",
    "\n",
    "for _ in range(n_simulations):\n",
    "\n",
    "    # Generate independent variable\n",
    "    X = np.random.normal(size=n)\n",
    "\n",
    "    # Generate spatially lagged variable\n",
    "    W_X = W.dot(X)  # Spatial lag of X\n",
    "\n",
    "    # Generate dependent variable with some noise\n",
    "    epsilon = np.random.normal(size=n)\n",
    "    Y = 1 + rho * W_X + 0.5 * X + epsilon  # FAR model\n",
    "\n",
    "    # Create a DataFrame\n",
    "    data = pd.DataFrame({'Y': Y, 'X': X, 'W_X': W_X})"
   ]
  },
  {
   "cell_type": "markdown",
   "id": "54f6388b-d1aa-423e-a78c-b82ee80c5ed3",
   "metadata": {},
   "source": [
    "**Interpretation**\n",
    "Weight Matrix: A spatial weight matrix 𝑊 was created for a 10x10 grid. Each observation represents a cell in this grid, and neighbors are defined as the four adjacent cells (left, right, above, below).\n",
    "The dataset simulates spatially dependent data where 𝑌 is influenced by its neighbors’ 𝑋 values (through 𝑊𝑋) and its own 𝑋 value."
   ]
  },
  {
   "cell_type": "code",
   "execution_count": 6,
   "id": "f4f1dc36-ea12-49ca-85c1-b2a1fa08b719",
   "metadata": {},
   "outputs": [
    {
     "name": "stdout",
     "output_type": "stream",
     "text": [
      "                            OLS Regression Results                            \n",
      "==============================================================================\n",
      "Dep. Variable:                      Y   R-squared:                       0.215\n",
      "Model:                            OLS   Adj. R-squared:                  0.207\n",
      "Method:                 Least Squares   F-statistic:                     26.87\n",
      "Date:                Thu, 21 Nov 2024   Prob (F-statistic):           1.17e-06\n",
      "Time:                        12:55:44   Log-Likelihood:                -143.69\n",
      "No. Observations:                 100   AIC:                             291.4\n",
      "Df Residuals:                      98   BIC:                             296.6\n",
      "Df Model:                           1                                         \n",
      "Covariance Type:            nonrobust                                         \n",
      "==============================================================================\n",
      "                 coef    std err          t      P>|t|      [0.025      0.975]\n",
      "------------------------------------------------------------------------------\n",
      "const          0.9582      0.103      9.277      0.000       0.753       1.163\n",
      "X              0.5085      0.098      5.184      0.000       0.314       0.703\n",
      "==============================================================================\n",
      "Omnibus:                        2.229   Durbin-Watson:                   2.120\n",
      "Prob(Omnibus):                  0.328   Jarque-Bera (JB):                1.698\n",
      "Skew:                          -0.299   Prob(JB):                        0.428\n",
      "Kurtosis:                       3.224   Cond. No.                         1.11\n",
      "==============================================================================\n",
      "\n",
      "Notes:\n",
      "[1] Standard Errors assume that the covariance matrix of the errors is correctly specified.\n"
     ]
    }
   ],
   "source": [
    "import statsmodels.api as sm\n",
    "\n",
    "# Fit OLS model\n",
    "X_ols = sm.add_constant(data['X'])  # Add constant term\n",
    "ols_model = sm.OLS(data['Y'], X_ols).fit()\n",
    "\n",
    "# Print OLS results\n",
    "print(ols_model.summary())"
   ]
  },
  {
   "cell_type": "markdown",
   "id": "86645b2e-3cbb-4031-b202-8db1cc136772",
   "metadata": {},
   "source": [
    "**Interpretation**: OLS captures the direct relationship between 𝑋 and 𝑌, ignoring spatial dependence. The results are slightly biased but close to the true value."
   ]
  },
  {
   "cell_type": "code",
   "execution_count": 10,
   "id": "05f6f109-d345-4e45-8ddf-e347939c79cb",
   "metadata": {},
   "outputs": [
    {
     "name": "stdout",
     "output_type": "stream",
     "text": [
      "Mean OLS Estimate: 0.5100, Bias: 0.0100\n",
      "Mean FAR Estimate: 0.5085, Bias: 0.0085\n",
      "REGRESSION RESULTS\n",
      "------------------\n",
      "\n",
      "SUMMARY OF OUTPUT: ORDINARY LEAST SQUARES\n",
      "-----------------------------------------\n",
      "Data set            :     unknown\n",
      "Weights matrix      :           W\n",
      "Dependent Variable  :           Y                Number of Observations:         100\n",
      "Mean dependent var  :      1.0075                Number of Variables   :           2\n",
      "S.D. dependent var  :      1.1551                Degrees of Freedom    :          98\n",
      "R-squared           :      0.2152\n",
      "Adjusted R-squared  :      0.2072\n",
      "Sum squared residual:     103.667                F-statistic           :     26.8700\n",
      "Sigma-square        :       1.058                Prob(F-statistic)     :   1.169e-06\n",
      "S.E. of regression  :       1.029                Log likelihood        :    -143.694\n",
      "Sigma-square ML     :       1.037                Akaike info criterion :     291.389\n",
      "S.E of regression ML:      1.0182                Schwarz criterion     :     296.599\n",
      "\n",
      "------------------------------------------------------------------------------------\n",
      "            Variable     Coefficient       Std.Error     t-Statistic     Probability\n",
      "------------------------------------------------------------------------------------\n",
      "            CONSTANT         0.95822         0.10329         9.27701         0.00000\n",
      "                   X         0.50846         0.09809         5.18363         0.00000\n",
      "------------------------------------------------------------------------------------\n",
      "\n",
      "REGRESSION DIAGNOSTICS\n",
      "MULTICOLLINEARITY CONDITION NUMBER           1.097\n",
      "\n",
      "TEST ON NORMALITY OF ERRORS\n",
      "TEST                             DF        VALUE           PROB\n",
      "Jarque-Bera                       2          1.698           0.4277\n",
      "\n",
      "DIAGNOSTICS FOR HETEROSKEDASTICITY\n",
      "RANDOM COEFFICIENTS\n",
      "TEST                             DF        VALUE           PROB\n",
      "Breusch-Pagan test                1          1.586           0.2080\n",
      "Koenker-Bassett test              1          1.426           0.2325\n",
      "================================ END OF REPORT =====================================\n",
      "REGRESSION RESULTS\n",
      "------------------\n",
      "\n",
      "SUMMARY OF OUTPUT: SPATIAL TWO STAGE LEAST SQUARES\n",
      "--------------------------------------------------\n",
      "Data set            :     unknown\n",
      "Weights matrix      :     unknown\n",
      "Dependent Variable  :           Y                Number of Observations:         100\n",
      "Mean dependent var  :      1.4812                Number of Variables   :           3\n",
      "S.D. dependent var  :      1.1734                Degrees of Freedom    :          97\n",
      "Pseudo R-squared    :      0.2718\n",
      "Spatial Pseudo R-squared:  0.4057\n",
      "\n",
      "------------------------------------------------------------------------------------\n",
      "            Variable     Coefficient       Std.Error     z-Statistic     Probability\n",
      "------------------------------------------------------------------------------------\n",
      "            CONSTANT         0.19517         0.37577         0.51939         0.60349\n",
      "                   X         0.57670         0.11011         5.23741         0.00000\n",
      "                 W_Y         0.75404         0.24774         3.04369         0.00234\n",
      "------------------------------------------------------------------------------------\n",
      "Instrumented: W_Y\n",
      "Instruments: W_X\n",
      "\n",
      "DIAGNOSTICS FOR SPATIAL DEPENDENCE\n",
      "TEST                              DF         VALUE           PROB\n",
      "Anselin-Kelejian Test             1          8.261           0.0040\n",
      "\n",
      "SPATIAL LAG MODEL IMPACTS\n",
      "Impacts computed using the 'simple' method.\n",
      "            Variable         Direct        Indirect          Total\n",
      "                   X         0.5767          1.7680          2.3447\n",
      "================================ END OF REPORT =====================================\n"
     ]
    }
   ],
   "source": [
    "from pysal.model import spreg\n",
    "from spreg import GM_Lag\n",
    "\n",
    "n_simulations = 100\n",
    "ols_estimates = []\n",
    "far_estimates = []\n",
    "\n",
    "for _ in range(n_simulations):\n",
    "    X = np.random.normal(size=n)\n",
    "    epsilon = np.random.normal(size=n)\n",
    "    W_X = W.dot(X)\n",
    "    Y = 1 + rho * W_X + 0.5 * X + epsilon\n",
    "\n",
    "    # OLS\n",
    "    X_ols = sm.add_constant(X)\n",
    "    ols_model = sm.OLS(Y, X_ols).fit()\n",
    "    ols_estimates.append(ols_model.params[1])  # Coefficient of X\n",
    "\n",
    "    # FAR\n",
    "    far_model = spreg.OLS(data['Y'], data[['X']], w=W, name_y='Y', name_x=['X'], name_w='W')\n",
    "    far_model2 = GM_Lag(Y, X.reshape(-1, 1), w=W, name_y='Y', name_x=['X'])\n",
    "    far_estimates.append(far_model.betas[1][0])  # Coefficient of X\n",
    "\n",
    "print(f\"Mean OLS Estimate: {np.mean(ols_estimates):.4f}, Bias: {np.mean(ols_estimates) - 0.5:.4f}\")\n",
    "print(f\"Mean FAR Estimate: {np.mean(far_estimates):.4f}, Bias: {np.mean(far_estimates) - 0.5:.4f}\")\n",
    "print(far_model.summary)\n",
    "print(far_model2.summary)\n"
   ]
  },
  {
   "cell_type": "markdown",
   "id": "d4b489f2-1ffe-44f4-9456-1686e2d0e1ed",
   "metadata": {},
   "source": [
    "**Interpretation**: FAR provides a biased estimate for 𝑋, potentially due to multicollinearity between 𝑊𝑌 and 𝑋 or a poorly identified 𝜌. This instability can occur if the spatial lag model does not fully capture the spatial dependence structure."
   ]
  },
  {
   "cell_type": "code",
   "execution_count": 12,
   "id": "1af6a1fd-bfa5-4772-ac3d-6ed612c16488",
   "metadata": {},
   "outputs": [
    {
     "data": {
      "image/png": "[encoded data removed]",
      "text/plain": [
       "<Figure size 640x480 with 1 Axes>"
      ]
     },
     "metadata": {},
     "output_type": "display_data"
    }
   ],
   "source": [
    "import matplotlib.pyplot as plt\n",
    "\n",
    "plt.hist(ols_estimates, bins=15, alpha=0.5, label=\"OLS Estimates\")\n",
    "plt.hist(far_estimates, bins=15, alpha=0.5, label=\"FAR Estimates\")\n",
    "plt.axvline(0.5, color='red', linestyle='--', label=\"True Value\")\n",
    "plt.legend()\n",
    "plt.title(\"Distribution of OLS and FAR Estimates\")\n",
    "plt.show()\n"
   ]
  },
  {
   "cell_type": "markdown",
   "id": "a0427f92-8330-44b6-81fe-07942f4180fa",
   "metadata": {},
   "source": [
    "**Histogram** Distribution of OLS and FAR estimates compared to the true value (β=0.5)."
   ]
  },
  {
   "cell_type": "code",
   "execution_count": 14,
   "id": "2bea3f75-e9c5-4f72-a9b8-0b3233c074af",
   "metadata": {},
   "outputs": [
    {
     "name": "stdout",
     "output_type": "stream",
     "text": [
      "OLS Bias: 0.0100, FAR Bias: 0.0085\n"
     ]
    }
   ],
   "source": [
    "ols_bias = np.mean(ols_estimates) - 0.5\n",
    "far_bias = np.mean(far_estimates) - 0.5\n",
    "print(f\"OLS Bias: {ols_bias:.4f}, FAR Bias: {far_bias:.4f}\")\n"
   ]
  },
  {
   "cell_type": "code",
   "execution_count": 16,
   "id": "1c145ace-8108-40a7-bdf4-885928c78973",
   "metadata": {},
   "outputs": [
    {
     "name": "stdout",
     "output_type": "stream",
     "text": [
      "OLS Std: 0.1082, FAR Std: 0.0000\n"
     ]
    }
   ],
   "source": [
    "ols_std = np.std(ols_estimates)\n",
    "far_std = np.std(far_estimates)\n",
    "\n",
    "print(f\"OLS Std: {ols_std:.4f}, FAR Std: {far_std:.4f}\")\n"
   ]
  },
  {
   "cell_type": "markdown",
   "id": "59c1cea7-bac1-4965-87a6-8e8aa49999d1",
   "metadata": {},
   "source": [
    "**Interpretation**:OLS is less biased and more stable than FAR in this setup, even though it ignores spatial dependence. FAR's underperformance might stem from the chosen spatial weight structure or instability in estimating 𝜌."
   ]
  },
  {
   "cell_type": "code",
   "execution_count": null,
   "id": "02ddfda3-6188-485f-a684-f377f65de61f",
   "metadata": {},
   "outputs": [],
   "source": []
  }
 ],
 "metadata": {
  "kernelspec": {
   "display_name": "Python 3 (ipykernel)",
   "language": "python",
   "name": "python3"
  },
  "language_info": {
   "codemirror_mode": {
    "name": "ipython",
    "version": 3
   },
   "file_extension": ".py",
   "mimetype": "text/x-python",
   "name": "python",
   "nbconvert_exporter": "python",
   "pygments_lexer": "ipython3",
   "version": "3.11.7"
  }
 },
 "nbformat": 4,
 "nbformat_minor": 5
}
